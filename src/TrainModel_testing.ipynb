{
 "cells": [
  {
   "cell_type": "code",
   "execution_count": 7,
   "metadata": {
    "collapsed": false
   },
   "outputs": [],
   "source": [
    "#install.packages('gbm', repos='http://cran.us.r-project.org', dep=TRUE)"
   ]
  },
  {
   "cell_type": "code",
   "execution_count": 8,
   "metadata": {
    "collapsed": false,
    "deletable": true,
    "editable": true
   },
   "outputs": [
    {
     "ename": "ERROR",
     "evalue": "Error in library(mxnet): there is no package called ‘mxnet’\n",
     "output_type": "error",
     "traceback": [
      "Error in library(mxnet): there is no package called ‘mxnet’\nTraceback:\n",
      "1. library(mxnet)",
      "2. stop(txt, domain = NA)"
     ]
    }
   ],
   "source": [
    "#install.packages('holdem', repos='http://cran.us.r-project.org')\n",
    "#install.packages('caret', repos='http://cran.us.r-project.org',dependencies = T)\n",
    "library(caret)\n",
    "#library(IRdisplay)\n",
    "#options(jupyter.plot_mimetypes = 'image/png')\n",
    "\n",
    "library(e1071)\n",
    "library(cowplot)\n",
    "library(gbm)\n",
    "#install.packages('mxnet', repos='http://cran.us.r-project.org')\n",
    "library(mxnet)"
   ]
  },
  {
   "cell_type": "code",
   "execution_count": 14,
   "metadata": {
    "collapsed": false,
    "deletable": true,
    "editable": true
   },
   "outputs": [
    {
     "name": "stdout",
     "output_type": "stream",
     "text": [
      "[1] \"Loading Data...\"\n"
     ]
    },
    {
     "data": {
      "text/html": [
       "TRUE"
      ],
      "text/latex": [
       "TRUE"
      ],
      "text/markdown": [
       "TRUE"
      ],
      "text/plain": [
       "[1] TRUE"
      ]
     },
     "metadata": {},
     "output_type": "display_data"
    }
   ],
   "source": [
    "sink(\"TestRunOutput.txt\", append=TRUE,split=TRUE)\n",
    "\n",
    "as.numeric.factor <- function(x) {as.numeric(levels(x))[x]}\n",
    "\n",
    "#source('https://bioconductor.org/biocLite.R')\n",
    "#biocLite(\"EBImage\")\n",
    "#library(EBImage)\n",
    "\n",
    "# Set seed for reproducibility\n",
    "mx.set.seed(100)\n",
    "\n",
    "print(\"Loading Data...\")\n",
    "\n",
    "fileName <- 'npdata_100k'\n",
    "unzip(paste0('../data/',fileName,'.zip'),exdir = \"../data\")\n",
    "hands<-read.fwf(file=paste0('../data/',fileName,'.txt'),widths=c(rep(1,53)))\n",
    "file.remove(paste0('../data/',fileName,'.txt'))"
   ]
  },
  {
   "cell_type": "code",
   "execution_count": 15,
   "metadata": {
    "collapsed": false,
    "deletable": true,
    "editable": true
   },
   "outputs": [
    {
     "name": "stdout",
     "output_type": "stream",
     "text": [
      "[1] \"Preparing Data as imagettes...\"\n",
      "train_y\n",
      "    0     1     2     3     4     5     6     7     8     9 \n",
      "26921 35252 10739  2831  1849  1157   946    82    11     1 \n",
      "test_y\n",
      "   0    1    2    3    4    5    6    7    8 \n",
      "6699 8844 2702  686  493  281  223   16    2 \n"
     ]
    }
   ],
   "source": [
    "print(\"Preparing Data as imagettes...\")\n",
    "\n",
    "hands[] <- lapply(hands, as.numeric)\n",
    "colnames(hands)[names(hands) == 'V53']<-\"score\"\n",
    "#str(hands)\n",
    "\n",
    "intrain<-createDataPartition(y=hands$score,p=0.8,list=FALSE)\n",
    "training<-hands[intrain,]\n",
    "testing<-hands[-intrain,]\n",
    "\n",
    "training <-data.matrix(training)\n",
    "\n",
    "#We want to move the card data down to the middle of the image array for processing in the neural network\n",
    "#This shifts the data to the mid-point of the image\n",
    "leftzeros <- matrix(0, ncol = 98, nrow = nrow(training))\n",
    "midcolumn <- matrix(0, ncol = 3, nrow = nrow(training))\n",
    "rightzeros <- matrix(0, ncol = 97, nrow = nrow(training))\n",
    "\n",
    "#Paste the zeros in the right places to make this work as a 28 by 28 array and then reshape for training\n",
    "training2 <- cbind(leftzeros,training[,1:13],midcolumn,\n",
    "                   training[,14:26],midcolumn,\n",
    "                   training[,27:39],midcolumn,\n",
    "                   training[,40:52],rightzeros)\n",
    "train2<-t(data.matrix(training2))\n",
    "train_array <-train2\n",
    "dim(train_array)<-c(16,16,1,ncol(train2))\n",
    "train_y <-training[,53]\n",
    "\n",
    "#print(training[30005,])\n",
    "#display(Image(train_array[,,,30005],dim=c(16,16)))\n",
    "\n",
    "testing <-data.matrix(testing)\n",
    "#Do the same thing with the test array\n",
    "leftzeros <- matrix(0, ncol = 98, nrow = nrow(testing))\n",
    "midcolumn <- matrix(0, ncol = 3, nrow = nrow(testing))\n",
    "rightzeros <- matrix(0, ncol = 97, nrow = nrow(testing))\n",
    "\n",
    "#Paste the zeros in the right places to make this work as a 28 by 28 array and then reshape for training\n",
    "testing2 <- cbind(leftzeros,testing[,1:13],midcolumn,\n",
    "                   testing[,14:26],midcolumn,\n",
    "                   testing[,27:39],midcolumn,\n",
    "                   testing[,40:52],rightzeros)\n",
    "testing2<-t(data.matrix(testing2))\n",
    "test_array <-testing2\n",
    "dim(test_array)<-c(16,16,1,ncol(testing2))\n",
    "test_y <-testing[,53]\n",
    "\n",
    "print(table(train_y))\n",
    "print(table(test_y))"
   ]
  },
  {
   "cell_type": "code",
   "execution_count": null,
   "metadata": {
    "collapsed": true,
    "deletable": true,
    "editable": true
   },
   "outputs": [],
   "source": [
    "# Set up the symbolic model\n",
    "#-------------------------------------------------------------------------------\n",
    "\n",
    "data <- mx.symbol.Variable('data')\n",
    "# 1st convolutional layer\n",
    "conv_1 <- mx.symbol.Convolution(data = data, kernel = c(5, 5), num_filter = 20)\n",
    "tanh_1 <- mx.symbol.Activation(data = conv_1, act_type = \"tanh\")\n",
    "pool_1 <- mx.symbol.Pooling(data = tanh_1, pool_type = \"max\", kernel = c(2, 2), stride = c(2, 2))\n",
    "# 2nd convolutional layer\n",
    "conv_2 <- mx.symbol.Convolution(data = pool_1, kernel = c(5, 5), num_filter = 50)\n",
    "tanh_2 <- mx.symbol.Activation(data = conv_2, act_type = \"tanh\")\n",
    "pool_2 <- mx.symbol.Pooling(data=tanh_2, pool_type = \"max\", kernel = c(2, 2), stride = c(2, 2))\n",
    "# 1st fully connected layer\n",
    "flatten <- mx.symbol.Flatten(data = pool_2)\n",
    "fc_1 <- mx.symbol.FullyConnected(data = flatten, num_hidden = 500)\n",
    "tanh_3 <- mx.symbol.Activation(data = fc_1, act_type = \"tanh\")\n",
    "# 2nd fully connected layer\n",
    "fc_2 <- mx.symbol.FullyConnected(data = tanh_3, num_hidden = 40)\n",
    "# Output. Softmax output since we'd like to get some probabilities.\n",
    "NN_model <- mx.symbol.SoftmaxOutput(data = fc_2)\n",
    "\n",
    "# Pre-training set up\n",
    "#-------------------------------------------------------------------------------\n",
    "\n",
    "\n",
    "# Device used. CPU in my case.\n",
    "\n",
    "#n.gpu<-4\n",
    "#devices <- lapply(0:(n.gpu-1), function(i) {\n",
    "#  mx.gpu(i)\n",
    "#})\n",
    "\n",
    "devices <- mx.cpu()\n",
    "\n",
    "# Training\n",
    "#-------------------------------------------------------------------------------\n",
    "\n",
    "# Train the model\n",
    "model <- mx.model.FeedForward.create(NN_model,\n",
    "                                     X = train_array,\n",
    "                                     y = train_y,\n",
    "                                     ctx = devices,\n",
    "                                     num.round = 10,\n",
    "                                     array.batch.size = 100,\n",
    "                                     learning.rate = 0.01,\n",
    "                                     momentum = 0.9,\n",
    "                                     eval.metric = mx.metric.accuracy,\n",
    "                                     epoch.end.callback = mx.callback.log.train.metric(1))"
   ]
  },
  {
   "cell_type": "code",
   "execution_count": null,
   "metadata": {
    "collapsed": true,
    "deletable": true,
    "editable": true
   },
   "outputs": [],
   "source": [
    "# Testing\n",
    "#-------------------------------------------------------------------------------\n",
    "\n",
    "# Predict labels\n",
    "predicted <- predict(model, test_array)\n",
    "# Assign labels\n",
    "predicted_labels <- max.col(t(predicted)) - 1\n",
    "# Get accuracy\n",
    "sum(diag(table(test_y, predicted_labels)))/40\n",
    "\n",
    "print(table(test_y))\n",
    "print(table(predicted_labels))\n",
    "\n",
    "u = union(predicted_labels, test_y)\n",
    "t = table(factor(predicted_labels, u), factor(test_y, u))\n",
    "print(confusionMatrix(t))\n",
    "\n",
    "mx.model.save(model, '../model/pokerhands100k.model', 10)"
   ]
  },
  {
   "cell_type": "code",
   "execution_count": 17,
   "metadata": {
    "collapsed": false,
    "deletable": true,
    "editable": true
   },
   "outputs": [
    {
     "name": "stdout",
     "output_type": "stream",
     "text": [
      "Start training with 1 devices\n"
     ]
    },
    {
     "ename": "ERROR",
     "evalue": "Error in eval(substitute(expr), envir, enclos): [15:46:45] src/storage/storage.cc:78: Compile with USE_CUDA=1 to enable GPU usage\n",
     "output_type": "error",
     "traceback": [
      "Error in eval(substitute(expr), envir, enclos): [15:46:45] src/storage/storage.cc:78: Compile with USE_CUDA=1 to enable GPU usage\nTraceback:\n",
      "1. mx.model.FeedForward.create(NN_model, X = train_array, y = train_y, \n .     ctx = devices, num.round = 600, array.batch.size = 4000, \n .     learning.rate = 0.01, momentum = 0.9, eval.metric = mx.metric.accuracy, \n .     epoch.end.callback = mx.callback.log.train.metric(100))",
      "2. mx.model.train(symbol, ctx, input.shape, params$arg.params, params$aux.params, \n .     begin.round, num.round, optimizer = optimizer, train.data = X, \n .     eval.data = eval.data, metric = eval.metric, epoch.end.callback = epoch.end.callback, \n .     batch.end.callback = batch.end.callback, kvstore = kvstore, \n .     verbose = verbose)",
      "3. lapply(1:ndevice, function(i) {\n .     mx.simple.bind(symbol, ctx = ctx[[i]], data = sliceinfo[[i]]$shape, \n .         grad.req = \"write\")\n . })",
      "4. FUN(X[[i]], ...)",
      "5. mx.simple.bind(symbol, ctx = ctx[[i]], data = sliceinfo[[i]]$shape, \n .     grad.req = \"write\")",
      "6. sapply(slist$arg.shapes, function(shape) {\n .     mx.nd.zeros(shape, ctx)\n . }, simplify = FALSE, USE.NAMES = TRUE)",
      "7. lapply(X = X, FUN = FUN, ...)",
      "8. FUN(X[[i]], ...)",
      "9. mx.nd.zeros(shape, ctx)",
      "10. mx.nd.internal.empty(shape, ctx)",
      "11. mx.nd.internal.empty.array(shape, ctx)"
     ]
    }
   ],
   "source": [
    "newmodel <- mx.model.FeedForward.create(model$symbol,\n",
    "                                     X = train_array,\n",
    "                                     y = train_y,\n",
    "                                     ctx = mx.cpu(),\n",
    "                                     num.round = 1,\n",
    "                                     array.batch.size = 4000,\n",
    "                                     learning.rate = 0.01,\n",
    "                                     momentum = 0.9,\n",
    "                                     eval.metric = mx.metric.accuracy,\n",
    "                                     epoch.end.callback = mx.callback.log.train.metric(100),\n",
    "\t\t\t\t     arg.params=model$arg.params,\n",
    "\t\t\t\t     aux.params=model$aux.params)\n",
    "\n",
    "\n",
    "\n",
    "mx.model.save(newmodel, 'pokerhands100k_3_cpu.model', 601)"
   ]
  },
  {
   "cell_type": "code",
   "execution_count": null,
   "metadata": {
    "collapsed": true,
    "deletable": true,
    "editable": true
   },
   "outputs": [],
   "source": []
  }
 ],
 "metadata": {
  "anaconda-cloud": {},
  "kernelspec": {
   "display_name": "R",
   "language": "R",
   "name": "ir"
  },
  "language_info": {
   "codemirror_mode": "r",
   "file_extension": ".r",
   "mimetype": "text/x-r-source",
   "name": "R",
   "pygments_lexer": "r",
   "version": "3.3.2"
  }
 },
 "nbformat": 4,
 "nbformat_minor": 1
}
