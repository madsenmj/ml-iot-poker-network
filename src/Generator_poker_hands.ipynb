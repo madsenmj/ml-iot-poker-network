{
 "cells": [
  {
   "cell_type": "markdown",
   "metadata": {},
   "source": [
    "# Create a file with hands and Classes"
   ]
  },
  {
   "cell_type": "code",
   "execution_count": 1,
   "metadata": {
    "collapsed": false
   },
   "outputs": [],
   "source": [
    "from deuces.deuces.evaluatorMJM import Evaluator\n",
    "from deuces.deuces.cardMJM import Card\n",
    "from deuces.deuces.deckMJM import Deck\n",
    "import time\n",
    "import random\n",
    "# create an evaluator\n",
    "evaluator = Evaluator()\n",
    "import numpy as np\n",
    "import zipfile\n",
    "import os"
   ]
  },
  {
   "cell_type": "code",
   "execution_count": 2,
   "metadata": {
    "collapsed": false
   },
   "outputs": [
    {
     "name": "stdout",
     "output_type": "stream",
     "text": [
      "199034\n",
      "19.020925045\n"
     ]
    }
   ],
   "source": [
    "nhands = 200000\n",
    "handarray = np.empty((nhands,53))\n",
    "\n",
    "deck = Deck()\n",
    "start = time.time()\n",
    "for i in range(nhands):\n",
    "    deck.shuffle()\n",
    "    hand = deck.draw(random.randrange(5,8))\n",
    "    evaluator.get_rank_class(evaluator.evaluate(hand))\n",
    "    handarray[i] = evaluator.hand_line(hand)\n",
    "\n",
    "\n",
    "b = np.ascontiguousarray(handarray).view(np.dtype((np.void, handarray.dtype.itemsize * handarray.shape[1])))\n",
    "_, idx = np.unique(b, return_index=True)\n",
    "\n",
    "unique_hands = handarray[idx]\n",
    "print(len(unique_hands))\n",
    "print(time.time()-start)\n"
   ]
  },
  {
   "cell_type": "code",
   "execution_count": 3,
   "metadata": {
    "collapsed": false
   },
   "outputs": [
    {
     "name": "stdout",
     "output_type": "stream",
     "text": [
      "Saving data...\n",
      "Creating archive...\n",
      "Deleting data file...\n"
     ]
    }
   ],
   "source": [
    "filename = 'npdata_200k'\n",
    "print('Saving data...')\n",
    "np.savetxt('../data/' + filename + '.txt',unique_hands,fmt='%d',delimiter='')\n",
    "print('Creating archive...')\n",
    "zf = zipfile.ZipFile('../data/' + filename + '.zip','w', zipfile.ZIP_DEFLATED)\n",
    "try:\n",
    "    zf.write('../data/' + filename + '.txt')\n",
    "finally:\n",
    "    zf.close()\n",
    "print('Deleting data file...')\n",
    "os.remove('../data/' + filename + '.txt')"
   ]
  }
 ],
 "metadata": {
  "kernelspec": {
   "display_name": "Python 2",
   "language": "python",
   "name": "python2"
  },
  "language_info": {
   "codemirror_mode": {
    "name": "ipython",
    "version": 2
   },
   "file_extension": ".py",
   "mimetype": "text/x-python",
   "name": "python",
   "nbconvert_exporter": "python",
   "pygments_lexer": "ipython2",
   "version": "2.7.12"
  }
 },
 "nbformat": 4,
 "nbformat_minor": 0
}
