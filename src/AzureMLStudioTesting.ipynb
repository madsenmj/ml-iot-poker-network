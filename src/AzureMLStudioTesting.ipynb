{
 "cells": [
  {
   "cell_type": "markdown",
   "metadata": {},
   "source": [
    "# This notebook creates a test tsv file for submitting to the Azure ML endpoint."
   ]
  },
  {
   "cell_type": "code",
   "execution_count": 5,
   "metadata": {
    "collapsed": false
   },
   "outputs": [
    {
     "name": "stderr",
     "output_type": "stream",
     "text": [
      "Loading required package: sp\n"
     ]
    }
   ],
   "source": [
    "library('uuid')\n",
    "library(jsonlite)\n",
    "library(plyr)\n",
    "library('geosphere')"
   ]
  },
  {
   "cell_type": "code",
   "execution_count": 6,
   "metadata": {
    "collapsed": false
   },
   "outputs": [],
   "source": [
    "#Set the locations and calculate the distance matrix for the possible GPS locations of the hands.\n",
    "locations <- rbind(c(-115.171579,36.101551), c(-115.168599,36.104740), c(-115.168599,36.104740), c(-115.175448,36.098796),\n",
    "                   c(-115.166224,36.125926), c(-115.172305, 36.124703), c(-115.138972, 36.168953),\n",
    "                   c(-115.145404, 36.170495), c(-115.147113, 36.171535), c(-115.145318, 36.174308),\n",
    "                   c(-115.145038, 36.172837), c(-115.151643, 36.135330), c(-115.174947, 36.120970),\n",
    "                   c(-115.176478, 36.121561), c(-74.435764,39.356116 ))\n",
    "location_names <- c('MGM Grand Show Bar','MGM Grand Garden Area', 'New York/New York', 'Exalibur', 'Wynn', 'Treasure Island','El Cortez', \n",
    "                    'Golden Nugget', 'Plaza', 'Main Street Station', 'California', 'Westgate',\n",
    "                    'Mirage Players Club','Mirage Calypso', 'Caesars')\n",
    "location_sub <- c('R1T1H1','R1T1H2','R1T2H1','R1T2H2','R2T1H1','R2T1H2','R2T2H1','R2T2H2','R3T1H1','R3T1H2','R3T2H1','R3T2H2')\n",
    "#print(locations[8,])\n",
    "#print(location_names[[8]])\n",
    "distances<-distm(locations)/1000\n",
    "#distances\n",
    "all_locations<-merge(data.frame(location_names,stringsAsFactors=FALSE),data.frame(location_sub,stringsAsFactors=FALSE))\n",
    "names(all_locations)<-c(\"Loc.Name\",\"Loc.Sub\")\n",
    "#all_locations <- ddply(locations[grep(hand.loc.name, location_names),2]\n",
    "                           \n",
    "all_locations<-ddply(all_locations,c(\"Loc.Name\"),\n",
    "      transform,\n",
    "      Loc.lat = locations[grep(Loc.Name[[1]], location_names),2],\n",
    "      Loc.lon = locations[grep(Loc.Name[[1]], location_names),1])\n",
    "                           "
   ]
  },
  {
   "cell_type": "code",
   "execution_count": 8,
   "metadata": {
    "collapsed": false
   },
   "outputs": [],
   "source": [
    "#Number of hands to generate\n",
    "nhands <- 3\n",
    "\n",
    "#Generate deck for creating hands\n",
    "deck <- paste0(rep(c(2:9, \"T\", \"J\", \"Q\", \"K\", \"A\"), 4),  #card values\n",
    "               rep(c(\"s\", \"h\", \"d\", \"c\"), each = 13)) #suits\n",
    "\n",
    "#The Card information comes from a JSON array with the following information:\n",
    "#* FaceValue: 2 character string\n",
    "#* CardID: a UUID for each card\n",
    "#* HandID: (starting HandID for each card)\n",
    "#* Hand.Loc.Lat (start location latitude)\n",
    "#* Hand.Loc.Lon: (start location longitude)\n",
    "#* Hand.Loc.Name: (start Casino name)\n",
    "#* Hand.Loc.Sub: (start table, hand, seat ID for each room)\n",
    "#* TransportMult:  (multiplier on moving this card (mostly 1))\n",
    "#* OccupiedLevel: (0 = available, 1000 = can't move (i.e. table card in Hold'em)\n",
    "\n",
    "hand_locations <- all_locations[sample(nrow(all_locations), nhands), ]\n",
    "\n",
    "cardDF <- data.frame(FaceValue = character(), \n",
    "                        CardID=character(),\n",
    "                        HandID=character(),\n",
    "                        HandLocName=character(),\n",
    "                        HandLocSub=character(),\n",
    "                        HandLocLat=numeric(),\n",
    "                        HandLocLon=numeric(),\n",
    "                        CardTransMult=numeric(),\n",
    "                        CardOccLevel = numeric(),stringsAsFactors=FALSE)\n",
    "\n",
    "for (handnum in 1:nhands){\n",
    "    shuffledhand <-sample(deck,size=5) #Shuffle decks\n",
    "    \n",
    "    handlocname<-hand_locations[handnum,1]\n",
    "    handlocsub <-hand_locations[handnum,2]\n",
    "    #print(hand.loc.name)\n",
    "    #Will need hand.loc index to get distance matrix: grep(hand.loc.name, location_names)\n",
    "    handloclat <- locations[grep(handlocname, location_names),2]\n",
    "    handloclon <- locations[grep(handlocname, location_names),1]\n",
    "    handID = UUIDgenerate() #unique handID number\n",
    "    for (i in 1:length(shuffledhand)){\n",
    "        #simulate bringing in JSON data on each card (from the Dealer server for now)\n",
    "        \n",
    "        cardString<-toJSON(data.frame(FaceValue=shuffledhand[[i]],\n",
    "                        CardID=UUIDgenerate(),\n",
    "                        HandID=handID,\n",
    "                        HandLocName=handlocname,\n",
    "                        HandLocSub=handlocsub,\n",
    "                        HandLocLat=handloclat,\n",
    "                        HandLocLon=handloclon,\n",
    "                        CardTransMult=runif(1)*(1+rpois(1, 0.5)),\n",
    "                        CardOccLevel = 1000 * rpois(1,0.1)))\n",
    "        #Join all the cards to the main data frame\n",
    "        \n",
    "        \n",
    "        \n",
    "        cardDF <- rbind(cardDF, fromJSON(cardString))\n",
    "    }\n",
    "}\n",
    "batchID<-UUIDgenerate()\n",
    "\n",
    "cardData<-toJSON(cardDF)\n",
    "batchDF<-data.frame(batchRequestTime=strftime(as.POSIXlt(Sys.time(), \"UTC\"), \"%Y-%m-%dT%H:%M:%S%z\"),\n",
    "                        batchID=batchID,\n",
    "                        cardData=as.character(cardData),stringsAsFactors=FALSE)\n",
    "\n",
    "\n",
    "write.table(batchDF, file = \"handFormat.tsv\", quote = TRUE, sep = \"\\t\",\n",
    "            eol = \"\\n\", na = \"NA\", dec = \".\", row.names = FALSE,\n",
    "            col.names = TRUE, qmethod = c(\"escape\", \"double\"))\n"
   ]
  },
  {
   "cell_type": "code",
   "execution_count": 18,
   "metadata": {
    "collapsed": false
   },
   "outputs": [
    {
     "data": {
      "text/html": [
       "<table>\n",
       "<thead><tr><th scope=col>FaceValue</th><th scope=col>CardID</th><th scope=col>HandID</th><th scope=col>HandLocName</th><th scope=col>HandLocSub</th><th scope=col>HandLocLat</th><th scope=col>HandLocLon</th><th scope=col>CardTransMult</th><th scope=col>CardOccLevel</th></tr></thead>\n",
       "<tbody>\n",
       "\t<tr><td>7s                                  </td><td>70da3932-a76e-11e6-822a-a12bcfd83528</td><td>70da25a0-a76e-11e6-822a-a12bcfd83528</td><td>Mirage Players Club                 </td><td>R3T2H2                              </td><td>36.1210                             </td><td>-115.1749                           </td><td>0.2574                              </td><td>   0                                </td></tr>\n",
       "\t<tr><td>Ac                                  </td><td>70dad572-a76e-11e6-822a-a12bcfd83528</td><td>70da25a0-a76e-11e6-822a-a12bcfd83528</td><td>Mirage Players Club                 </td><td>R3T2H2                              </td><td>36.1210                             </td><td>-115.1749                           </td><td>0.4674                              </td><td>1000                                </td></tr>\n",
       "\t<tr><td>Jc                                  </td><td>70db5e34-a76e-11e6-822a-a12bcfd83528</td><td>70da25a0-a76e-11e6-822a-a12bcfd83528</td><td>Mirage Players Club                 </td><td>R3T2H2                              </td><td>36.1210                             </td><td>-115.1749                           </td><td>0.2210                              </td><td>   0                                </td></tr>\n",
       "\t<tr><td>5c                                  </td><td>70dbfa60-a76e-11e6-822a-a12bcfd83528</td><td>70da25a0-a76e-11e6-822a-a12bcfd83528</td><td>Mirage Players Club                 </td><td>R3T2H2                              </td><td>36.1210                             </td><td>-115.1749                           </td><td>0.8325                              </td><td>   0                                </td></tr>\n",
       "\t<tr><td>5d                                  </td><td>70dc6f86-a76e-11e6-822a-a12bcfd83528</td><td>70da25a0-a76e-11e6-822a-a12bcfd83528</td><td>Mirage Players Club                 </td><td>R3T2H2                              </td><td>36.1210                             </td><td>-115.1749                           </td><td>1.6170                              </td><td>1000                                </td></tr>\n",
       "\t<tr><td>4h                                  </td><td>70dce4b6-a76e-11e6-822a-a12bcfd83528</td><td>70dcd12e-a76e-11e6-822a-a12bcfd83528</td><td>Exalibur                            </td><td>R3T1H1                              </td><td>36.0988                             </td><td>-115.1754                           </td><td>0.6376                              </td><td>   0                                </td></tr>\n",
       "\t<tr><td>Ad                                  </td><td>70dd465e-a76e-11e6-822a-a12bcfd83528</td><td>70dcd12e-a76e-11e6-822a-a12bcfd83528</td><td>Exalibur                            </td><td>R3T1H1                              </td><td>36.0988                             </td><td>-115.1754                           </td><td>0.1711                              </td><td>   0                                </td></tr>\n",
       "\t<tr><td>3s                                  </td><td>70ddbb98-a76e-11e6-822a-a12bcfd83528</td><td>70dcd12e-a76e-11e6-822a-a12bcfd83528</td><td>Exalibur                            </td><td>R3T1H1                              </td><td>36.0988                             </td><td>-115.1754                           </td><td>1.0124                              </td><td>   0                                </td></tr>\n",
       "\t<tr><td>Tc                                  </td><td>70de57c4-a76e-11e6-822a-a12bcfd83528</td><td>70dcd12e-a76e-11e6-822a-a12bcfd83528</td><td>Exalibur                            </td><td>R3T1H1                              </td><td>36.0988                             </td><td>-115.1754                           </td><td>0.8605                              </td><td>   0                                </td></tr>\n",
       "\t<tr><td>Kc                                  </td><td>70decd08-a76e-11e6-822a-a12bcfd83528</td><td>70dcd12e-a76e-11e6-822a-a12bcfd83528</td><td>Exalibur                            </td><td>R3T1H1                              </td><td>36.0988                             </td><td>-115.1754                           </td><td>0.0785                              </td><td>   0                                </td></tr>\n",
       "\t<tr><td>Qs                                  </td><td>70df7cd0-a76e-11e6-822a-a12bcfd83528</td><td>70df6948-a76e-11e6-822a-a12bcfd83528</td><td>Treasure Island                     </td><td>R1T1H1                              </td><td>36.1247                             </td><td>-115.1723                           </td><td>0.5447                              </td><td>   0                                </td></tr>\n",
       "\t<tr><td>5c                                  </td><td>70dfde6e-a76e-11e6-822a-a12bcfd83528</td><td>70df6948-a76e-11e6-822a-a12bcfd83528</td><td>Treasure Island                     </td><td>R1T1H1                              </td><td>36.1247                             </td><td>-115.1723                           </td><td>0.8117                              </td><td>   0                                </td></tr>\n",
       "\t<tr><td>Kc                                  </td><td>70e0400c-a76e-11e6-822a-a12bcfd83528</td><td>70df6948-a76e-11e6-822a-a12bcfd83528</td><td>Treasure Island                     </td><td>R1T1H1                              </td><td>36.1247                             </td><td>-115.1723                           </td><td>0.9474                              </td><td>   0                                </td></tr>\n",
       "\t<tr><td>Kd                                  </td><td>70e0c8ce-a76e-11e6-822a-a12bcfd83528</td><td>70df6948-a76e-11e6-822a-a12bcfd83528</td><td>Treasure Island                     </td><td>R1T1H1                              </td><td>36.1247                             </td><td>-115.1723                           </td><td>1.4314                              </td><td>   0                                </td></tr>\n",
       "\t<tr><td>Th                                  </td><td>70e12a76-a76e-11e6-822a-a12bcfd83528</td><td>70df6948-a76e-11e6-822a-a12bcfd83528</td><td>Treasure Island                     </td><td>R1T1H1                              </td><td>36.1247                             </td><td>-115.1723                           </td><td>1.0001                              </td><td>1000                                </td></tr>\n",
       "</tbody>\n",
       "</table>\n"
      ],
      "text/latex": [
       "\\begin{tabular}{r|lllllllll}\n",
       " FaceValue & CardID & HandID & HandLocName & HandLocSub & HandLocLat & HandLocLon & CardTransMult & CardOccLevel\\\\\n",
       "\\hline\n",
       "\t 7s                                   & 70da3932-a76e-11e6-822a-a12bcfd83528 & 70da25a0-a76e-11e6-822a-a12bcfd83528 & Mirage Players Club                  & R3T2H2                               & 36.1210                              & -115.1749                            & 0.2574                               &    0                                \\\\\n",
       "\t Ac                                   & 70dad572-a76e-11e6-822a-a12bcfd83528 & 70da25a0-a76e-11e6-822a-a12bcfd83528 & Mirage Players Club                  & R3T2H2                               & 36.1210                              & -115.1749                            & 0.4674                               & 1000                                \\\\\n",
       "\t Jc                                   & 70db5e34-a76e-11e6-822a-a12bcfd83528 & 70da25a0-a76e-11e6-822a-a12bcfd83528 & Mirage Players Club                  & R3T2H2                               & 36.1210                              & -115.1749                            & 0.2210                               &    0                                \\\\\n",
       "\t 5c                                   & 70dbfa60-a76e-11e6-822a-a12bcfd83528 & 70da25a0-a76e-11e6-822a-a12bcfd83528 & Mirage Players Club                  & R3T2H2                               & 36.1210                              & -115.1749                            & 0.8325                               &    0                                \\\\\n",
       "\t 5d                                   & 70dc6f86-a76e-11e6-822a-a12bcfd83528 & 70da25a0-a76e-11e6-822a-a12bcfd83528 & Mirage Players Club                  & R3T2H2                               & 36.1210                              & -115.1749                            & 1.6170                               & 1000                                \\\\\n",
       "\t 4h                                   & 70dce4b6-a76e-11e6-822a-a12bcfd83528 & 70dcd12e-a76e-11e6-822a-a12bcfd83528 & Exalibur                             & R3T1H1                               & 36.0988                              & -115.1754                            & 0.6376                               &    0                                \\\\\n",
       "\t Ad                                   & 70dd465e-a76e-11e6-822a-a12bcfd83528 & 70dcd12e-a76e-11e6-822a-a12bcfd83528 & Exalibur                             & R3T1H1                               & 36.0988                              & -115.1754                            & 0.1711                               &    0                                \\\\\n",
       "\t 3s                                   & 70ddbb98-a76e-11e6-822a-a12bcfd83528 & 70dcd12e-a76e-11e6-822a-a12bcfd83528 & Exalibur                             & R3T1H1                               & 36.0988                              & -115.1754                            & 1.0124                               &    0                                \\\\\n",
       "\t Tc                                   & 70de57c4-a76e-11e6-822a-a12bcfd83528 & 70dcd12e-a76e-11e6-822a-a12bcfd83528 & Exalibur                             & R3T1H1                               & 36.0988                              & -115.1754                            & 0.8605                               &    0                                \\\\\n",
       "\t Kc                                   & 70decd08-a76e-11e6-822a-a12bcfd83528 & 70dcd12e-a76e-11e6-822a-a12bcfd83528 & Exalibur                             & R3T1H1                               & 36.0988                              & -115.1754                            & 0.0785                               &    0                                \\\\\n",
       "\t Qs                                   & 70df7cd0-a76e-11e6-822a-a12bcfd83528 & 70df6948-a76e-11e6-822a-a12bcfd83528 & Treasure Island                      & R1T1H1                               & 36.1247                              & -115.1723                            & 0.5447                               &    0                                \\\\\n",
       "\t 5c                                   & 70dfde6e-a76e-11e6-822a-a12bcfd83528 & 70df6948-a76e-11e6-822a-a12bcfd83528 & Treasure Island                      & R1T1H1                               & 36.1247                              & -115.1723                            & 0.8117                               &    0                                \\\\\n",
       "\t Kc                                   & 70e0400c-a76e-11e6-822a-a12bcfd83528 & 70df6948-a76e-11e6-822a-a12bcfd83528 & Treasure Island                      & R1T1H1                               & 36.1247                              & -115.1723                            & 0.9474                               &    0                                \\\\\n",
       "\t Kd                                   & 70e0c8ce-a76e-11e6-822a-a12bcfd83528 & 70df6948-a76e-11e6-822a-a12bcfd83528 & Treasure Island                      & R1T1H1                               & 36.1247                              & -115.1723                            & 1.4314                               &    0                                \\\\\n",
       "\t Th                                   & 70e12a76-a76e-11e6-822a-a12bcfd83528 & 70df6948-a76e-11e6-822a-a12bcfd83528 & Treasure Island                      & R1T1H1                               & 36.1247                              & -115.1723                            & 1.0001                               & 1000                                \\\\\n",
       "\\end{tabular}\n"
      ],
      "text/plain": [
       "   FaceValue CardID                              \n",
       "1  7s        70da3932-a76e-11e6-822a-a12bcfd83528\n",
       "2  Ac        70dad572-a76e-11e6-822a-a12bcfd83528\n",
       "3  Jc        70db5e34-a76e-11e6-822a-a12bcfd83528\n",
       "4  5c        70dbfa60-a76e-11e6-822a-a12bcfd83528\n",
       "5  5d        70dc6f86-a76e-11e6-822a-a12bcfd83528\n",
       "6  4h        70dce4b6-a76e-11e6-822a-a12bcfd83528\n",
       "7  Ad        70dd465e-a76e-11e6-822a-a12bcfd83528\n",
       "8  3s        70ddbb98-a76e-11e6-822a-a12bcfd83528\n",
       "9  Tc        70de57c4-a76e-11e6-822a-a12bcfd83528\n",
       "10 Kc        70decd08-a76e-11e6-822a-a12bcfd83528\n",
       "11 Qs        70df7cd0-a76e-11e6-822a-a12bcfd83528\n",
       "12 5c        70dfde6e-a76e-11e6-822a-a12bcfd83528\n",
       "13 Kc        70e0400c-a76e-11e6-822a-a12bcfd83528\n",
       "14 Kd        70e0c8ce-a76e-11e6-822a-a12bcfd83528\n",
       "15 Th        70e12a76-a76e-11e6-822a-a12bcfd83528\n",
       "   HandID                               HandLocName         HandLocSub\n",
       "1  70da25a0-a76e-11e6-822a-a12bcfd83528 Mirage Players Club R3T2H2    \n",
       "2  70da25a0-a76e-11e6-822a-a12bcfd83528 Mirage Players Club R3T2H2    \n",
       "3  70da25a0-a76e-11e6-822a-a12bcfd83528 Mirage Players Club R3T2H2    \n",
       "4  70da25a0-a76e-11e6-822a-a12bcfd83528 Mirage Players Club R3T2H2    \n",
       "5  70da25a0-a76e-11e6-822a-a12bcfd83528 Mirage Players Club R3T2H2    \n",
       "6  70dcd12e-a76e-11e6-822a-a12bcfd83528 Exalibur            R3T1H1    \n",
       "7  70dcd12e-a76e-11e6-822a-a12bcfd83528 Exalibur            R3T1H1    \n",
       "8  70dcd12e-a76e-11e6-822a-a12bcfd83528 Exalibur            R3T1H1    \n",
       "9  70dcd12e-a76e-11e6-822a-a12bcfd83528 Exalibur            R3T1H1    \n",
       "10 70dcd12e-a76e-11e6-822a-a12bcfd83528 Exalibur            R3T1H1    \n",
       "11 70df6948-a76e-11e6-822a-a12bcfd83528 Treasure Island     R1T1H1    \n",
       "12 70df6948-a76e-11e6-822a-a12bcfd83528 Treasure Island     R1T1H1    \n",
       "13 70df6948-a76e-11e6-822a-a12bcfd83528 Treasure Island     R1T1H1    \n",
       "14 70df6948-a76e-11e6-822a-a12bcfd83528 Treasure Island     R1T1H1    \n",
       "15 70df6948-a76e-11e6-822a-a12bcfd83528 Treasure Island     R1T1H1    \n",
       "   HandLocLat HandLocLon CardTransMult CardOccLevel\n",
       "1  36.1210    -115.1749  0.2574           0        \n",
       "2  36.1210    -115.1749  0.4674        1000        \n",
       "3  36.1210    -115.1749  0.2210           0        \n",
       "4  36.1210    -115.1749  0.8325           0        \n",
       "5  36.1210    -115.1749  1.6170        1000        \n",
       "6  36.0988    -115.1754  0.6376           0        \n",
       "7  36.0988    -115.1754  0.1711           0        \n",
       "8  36.0988    -115.1754  1.0124           0        \n",
       "9  36.0988    -115.1754  0.8605           0        \n",
       "10 36.0988    -115.1754  0.0785           0        \n",
       "11 36.1247    -115.1723  0.5447           0        \n",
       "12 36.1247    -115.1723  0.8117           0        \n",
       "13 36.1247    -115.1723  0.9474           0        \n",
       "14 36.1247    -115.1723  1.4314           0        \n",
       "15 36.1247    -115.1723  1.0001        1000        "
      ]
     },
     "metadata": {},
     "output_type": "display_data"
    }
   ],
   "source": [
    "cardDF"
   ]
  },
  {
   "cell_type": "code",
   "execution_count": 11,
   "metadata": {
    "collapsed": false
   },
   "outputs": [],
   "source": []
  },
  {
   "cell_type": "code",
   "execution_count": null,
   "metadata": {
    "collapsed": false
   },
   "outputs": [],
   "source": []
  },
  {
   "cell_type": "code",
   "execution_count": null,
   "metadata": {
    "collapsed": true
   },
   "outputs": [],
   "source": []
  }
 ],
 "metadata": {
  "anaconda-cloud": {},
  "kernelspec": {
   "display_name": "R",
   "language": "R",
   "name": "ir"
  }
 },
 "nbformat": 4,
 "nbformat_minor": 1
}
